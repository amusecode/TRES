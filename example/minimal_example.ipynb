{
 "cells": [
  {
   "cell_type": "code",
   "execution_count": null,
   "metadata": {},
   "outputs": [],
   "source": [
    "%load_ext autoreload\n",
    "%autoreload 3"
   ]
  },
  {
   "cell_type": "code",
   "execution_count": null,
   "metadata": {},
   "outputs": [],
   "source": [
    "from amuse.units import units\n",
    "from amuse.community.seba import Seba\n",
    "from tres.seculartriple import Seculartriple\n",
    "\n",
    "import numpy as np\n",
    "import matplotlib.pyplot as plt\n",
    "\n",
    "from tres import run_tres_developer, initialize_triple_class\n",
    "from tres.setup import make_particle_sets"
   ]
  },
  {
   "cell_type": "code",
   "execution_count": null,
   "metadata": {},
   "outputs": [],
   "source": [
    "# Make the stars and binaries\n",
    "\n",
    "inner_primary_mass = 10.0 | units.MSun\n",
    "inner_secondary_mass =  8.0 | units.MSun\n",
    "outer_mass = 5 | units.MSun\n",
    "inner_semimajor_axis =  1.0 | units.AU\n",
    "outer_semimajor_axis = 12.0 | units.AU\n",
    "inner_eccentricity =  0.5\n",
    "outer_eccentricity = 0.5\n",
    "relative_inclination = np.pi/3\n",
    "inner_argument_of_pericenter =   0.0\n",
    "outer_argument_of_pericenter = 0.0\n",
    "inner_longitude_of_ascending_node = 0.0\n",
    "\n",
    "stars, bins, correct_params = make_particle_sets(inner_primary_mass, inner_secondary_mass, outer_mass,\n",
    "                                                     inner_semimajor_axis, outer_semimajor_axis,\n",
    "                                                     inner_eccentricity, outer_eccentricity,\n",
    "                                                     relative_inclination,\n",
    "                                                     inner_argument_of_pericenter, outer_argument_of_pericenter,\n",
    "                                                     inner_longitude_of_ascending_node)"
   ]
  },
  {
   "cell_type": "code",
   "execution_count": null,
   "metadata": {},
   "outputs": [],
   "source": [
    "print(stars)"
   ]
  },
  {
   "cell_type": "code",
   "execution_count": null,
   "metadata": {},
   "outputs": [],
   "source": [
    "print(bins)"
   ]
  },
  {
   "cell_type": "code",
   "execution_count": null,
   "metadata": {},
   "outputs": [],
   "source": [
    "# Initialize the stellar and secular codes\n",
    "\n",
    "stellar_code = Seba()\n",
    "secular_code = Seculartriple()"
   ]
  },
  {
   "cell_type": "code",
   "execution_count": null,
   "metadata": {},
   "outputs": [],
   "source": [
    "# Create the triple class object\n",
    "\n",
    "triple = initialize_triple_class(stars, bins, \n",
    "                                 correct_params, stellar_code, \n",
    "                                 secular_code)\n",
    "\n",
    "# Set metallicity\n",
    "triple.stellar_code.parameters.metallicity = 0.02"
   ]
  },
  {
   "cell_type": "code",
   "execution_count": null,
   "metadata": {},
   "outputs": [],
   "source": [
    "triple.print_stellar_system()"
   ]
  },
  {
   "cell_type": "code",
   "execution_count": null,
   "metadata": {},
   "outputs": [],
   "source": [
    "# Evolve the system\n",
    "\n",
    "triple.evolve_model(10 | units.Myr)"
   ]
  },
  {
   "cell_type": "code",
   "execution_count": null,
   "metadata": {},
   "outputs": [],
   "source": [
    "triple.print_stellar_system()"
   ]
  },
  {
   "cell_type": "code",
   "execution_count": null,
   "metadata": {},
   "outputs": [],
   "source": [
    "stellar_code.particles.remove_particles(stars)"
   ]
  },
  {
   "cell_type": "code",
   "execution_count": null,
   "metadata": {},
   "outputs": [],
   "source": [
    "stellar_code.stop()\n",
    "secular_code.stop()"
   ]
  },
  {
   "cell_type": "code",
   "execution_count": null,
   "metadata": {},
   "outputs": [],
   "source": [
    "plt.plot(triple.plot_data.times_array.number, triple.plot_data.a_in_array.number)"
   ]
  }
 ],
 "metadata": {
  "kernelspec": {
   "display_name": "Python 3 (ipykernel)",
   "language": "python",
   "name": "python3"
  },
  "language_info": {
   "codemirror_mode": {
    "name": "ipython",
    "version": 3
   },
   "file_extension": ".py",
   "mimetype": "text/x-python",
   "name": "python",
   "nbconvert_exporter": "python",
   "pygments_lexer": "ipython3",
   "version": "3.13.1"
  },
  "vscode": {
   "interpreter": {
    "hash": "2adc4102d3c5cc3c27614a3ecc3c3c429cb40eb1d735b73fcbb59a415fcc6b30"
   }
  }
 },
 "nbformat": 4,
 "nbformat_minor": 4
}
