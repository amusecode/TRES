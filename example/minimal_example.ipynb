{
 "cells": [
  {
   "cell_type": "code",
   "execution_count": 2,
   "metadata": {},
   "outputs": [],
   "source": [
    "%load_ext autoreload\n",
    "%autoreload 3"
   ]
  },
  {
   "cell_type": "code",
   "execution_count": 3,
   "metadata": {},
   "outputs": [],
   "source": [
    "# Add TRES to path\n",
    "\n",
    "import sys\n",
    "sys.path.append(\"..\")"
   ]
  },
  {
   "cell_type": "code",
   "execution_count": 8,
   "metadata": {},
   "outputs": [],
   "source": [
    "from amuse.units import units\n",
    "from amuse.community.seba.interface import SeBa\n",
    "from seculartriple_TPS.interface import SecularTriple\n",
    "\n",
    "import numpy as np\n",
    "import matplotlib.pyplot as plt\n",
    "\n",
    "from TRES import main_developer, initialize_triple_class\n",
    "from tres_setup import make_particle_sets"
   ]
  },
  {
   "cell_type": "code",
   "execution_count": 9,
   "metadata": {},
   "outputs": [],
   "source": [
    "# Make the stars and binaries\n",
    "\n",
    "inner_primary_mass = 10.0 | units.MSun\n",
    "inner_secondary_mass =  8.0 | units.MSun\n",
    "outer_mass = 5 | units.MSun\n",
    "inner_semimajor_axis =  1.0 | units.AU\n",
    "outer_semimajor_axis = 12.0 | units.AU\n",
    "inner_eccentricity =  0.5\n",
    "outer_eccentricity = 0.5\n",
    "relative_inclination = np.pi/3\n",
    "inner_argument_of_pericenter =   0.0\n",
    "outer_argument_of_pericenter = 0.0\n",
    "inner_longitude_of_ascending_node = 0.0\n",
    "\n",
    "stars, bins, correct_params = make_particle_sets(inner_primary_mass, inner_secondary_mass, outer_mass,\n",
    "                                                     inner_semimajor_axis, outer_semimajor_axis,\n",
    "                                                     inner_eccentricity, outer_eccentricity,\n",
    "                                                     relative_inclination,\n",
    "                                                     inner_argument_of_pericenter, outer_argument_of_pericenter,\n",
    "                                                     inner_longitude_of_ascending_node)"
   ]
  },
  {
   "cell_type": "code",
   "execution_count": 10,
   "metadata": {},
   "outputs": [
    {
     "name": "stdout",
     "output_type": "stream",
     "text": [
      "                 key  initial_mass     is_donor      is_star         mass       parent\n",
      "                   -         MSun         none         none         MSun         none\n",
      "====================  ===========  ===========  ===========  ===========  ===========\n",
      "12680313779839093419    1.000e+01        False         True    1.000e+01  14297637246665137321\n",
      "10978989039604764050    8.000e+00        False         True    8.000e+00  14297637246665137321\n",
      " 7334785628966770775    5.000e+00        False         True    5.000e+00  8073120004149095763\n",
      "====================  ===========  ===========  ===========  ===========  ===========\n"
     ]
    }
   ],
   "source": [
    "print(stars)"
   ]
  },
  {
   "cell_type": "code",
   "execution_count": 11,
   "metadata": {},
   "outputs": [
    {
     "name": "stdout",
     "output_type": "stream",
     "text": [
      "                 key  accretion_efficiency_mass_transfer  accretion_efficiency_wind_child1_to_child2  accretion_efficiency_wind_child2_to_child1  argument_of_pericenter     bin_type       child1       child2  eccentricity  is_mt_stable      is_star  longitude_of_ascending_node  mass_transfer_rate       parent   part_dt_mt  semimajor_axis  specific_AM_loss_mass_transfer\n",
      "                   -         none         none         none         none         none         none         none         none         none         none         none    MSun / yr         none         none           AU         none\n",
      "====================  ===========  ===========  ===========  ===========  ===========  ===========  ===========  ===========  ===========  ===========  ===========  ===========  ===========  ===========  ===========  ===========\n",
      "14297637246665137321    1.000e+00    0.000e+00    0.000e+00    0.000e+00      unknown  12680313779839093419  10978989039604764050    5.000e-01         True        False    0.000e+00    0.000e+00  8073120004149095763    1.000e+00    1.000e+00    2.500e+00\n",
      " 8073120004149095763    1.000e+00    0.000e+00    0.000e+00    0.000e+00      unknown  7334785628966770775  14297637246665137321    5.000e-01         True        False   -3.142e+00    0.000e+00           --    1.000e+00    1.200e+01    2.500e+00\n",
      "====================  ===========  ===========  ===========  ===========  ===========  ===========  ===========  ===========  ===========  ===========  ===========  ===========  ===========  ===========  ===========  ===========\n"
     ]
    }
   ],
   "source": [
    "print(bins)"
   ]
  },
  {
   "cell_type": "code",
   "execution_count": 12,
   "metadata": {},
   "outputs": [],
   "source": [
    "# Initialize the stellar and secular codes\n",
    "\n",
    "stellar_code = SeBa()\n",
    "secular_code = SecularTriple()"
   ]
  },
  {
   "cell_type": "code",
   "execution_count": 13,
   "metadata": {},
   "outputs": [],
   "source": [
    "# Create the triple class object\n",
    "\n",
    "triple = initialize_triple_class(stars, bins, \n",
    "                                 correct_params, stellar_code, \n",
    "                                 secular_code)\n",
    "\n",
    "# Set metallicity\n",
    "triple.stellar_code.parameters.metallicity = 0.02"
   ]
  },
  {
   "cell_type": "code",
   "execution_count": 12,
   "metadata": {},
   "outputs": [
    {
     "name": "stdout",
     "output_type": "stream",
     "text": [
      "0\n",
      "0.797678407704\n",
      "binary star: \n",
      "22.999654438 [MSun]\n",
      "2581.1666718 [RSun]\n",
      "0.500335116703\n",
      "47715.4354306\n",
      "-45957.7590771\n",
      "-9.2375052478 [MSun / Myr]\n",
      "1.0\n",
      "0.0\n",
      "0.0\n",
      "2.5\n",
      "True\n",
      "\t\n",
      "star:\n",
      "5.0000000000 [Myr]\n",
      "Main Sequence star\n",
      "5.0000000000 [MSun]\n",
      "2.5225884740 [RSun]\n",
      "0.0000000000 [MSun]\n",
      "0.0000000000 [RSun]\n",
      "1.0000000000e-10 [MSun]\n",
      "1.0000000000e-10 [RSun]\n",
      "7.1944568517e+21 [MSun * RSun**2 * Myr**-2 / Myr]\n",
      "17779.906061 [K]\n",
      "-0.0000000000 [MSun / Myr]\n",
      "4296578639.3 [Myr**-1]\n",
      "False\n",
      "\t\n",
      "\t\n",
      "binary star: \n",
      "17.999654438 [MSun]\n",
      "215.09673196 [RSun]\n",
      "0.930165104093\n",
      "54928.5062848\n",
      "-45954.6174844\n",
      "-80.313241129 [MSun / Myr]\n",
      "1.0\n",
      "0.0\n",
      "0.0\n",
      "2.5\n",
      "True\n",
      "\t\n",
      "star:\n",
      "5.0000000000 [Myr]\n",
      "Main Sequence star\n",
      "9.9996544378 [MSun]\n",
      "4.0668412764 [RSun]\n",
      "0.0000000000 [MSun]\n",
      "0.0000000000 [RSun]\n",
      "1.0000000000e-10 [MSun]\n",
      "1.0000000000e-10 [RSun]\n",
      "7.7595161068e+22 [MSun * RSun**2 * Myr**-2 / Myr]\n",
      "25376.586954 [K]\n",
      "-7.3783799789e-05 [MSun / Myr]\n",
      "2343151245.1 [Myr**-1]\n",
      "False\n",
      "\t\n",
      "\t\n",
      "star:\n",
      "5.0000000000 [Myr]\n",
      "Main Sequence star\n",
      "8.0000000000 [MSun]\n",
      "3.4443310804 [RSun]\n",
      "0.0000000000 [MSun]\n",
      "0.0000000000 [RSun]\n",
      "1.0000000000e-10 [MSun]\n",
      "1.0000000000e-10 [RSun]\n",
      "3.6506213693e+22 [MSun * RSun**2 * Myr**-2 / Myr]\n",
      "22837.176854 [K]\n",
      "-0.0000000000 [MSun / Myr]\n",
      "2945820979.1 [Myr**-1]\n",
      "False\n",
      "\t\n",
      "\t\n",
      "\t\n",
      "\t\n"
     ]
    }
   ],
   "source": [
    "triple.print_stellar_system()"
   ]
  },
  {
   "cell_type": "code",
   "execution_count": 13,
   "metadata": {},
   "outputs": [],
   "source": [
    "# Evolve the system\n",
    "\n",
    "triple.evolve_model(10 | units.Myr)"
   ]
  },
  {
   "cell_type": "code",
   "execution_count": 15,
   "metadata": {},
   "outputs": [
    {
     "name": "stdout",
     "output_type": "stream",
     "text": [
      "0\n",
      "0.97372741032\n",
      "binary star: \n",
      "22.999242313 [MSun]\n",
      "2581.2129240 [RSun]\n",
      "0.500654264276\n",
      "93691.5739051\n",
      "-90626.9961368\n",
      "-9.6859427118 [MSun / Myr]\n",
      "1.0\n",
      "0.0\n",
      "0.0\n",
      "2.5\n",
      "True\n",
      "\t\n",
      "star:\n",
      "10.000000000 [Myr]\n",
      "Main Sequence star\n",
      "5.0000000000 [MSun]\n",
      "2.5861750006 [RSun]\n",
      "0.0000000000 [MSun]\n",
      "0.0000000000 [RSun]\n",
      "1.0000000000e-10 [MSun]\n",
      "1.0000000000e-10 [RSun]\n",
      "7.3582359184e+21 [MSun * RSun**2 * Myr**-2 / Myr]\n",
      "17659.062144 [K]\n",
      "-0.0000000000 [MSun / Myr]\n",
      "4087895267.4 [Myr**-1]\n",
      "False\n",
      "\t\n",
      "\t\n",
      "binary star: \n",
      "17.999242313 [MSun]\n",
      "215.09874250 [RSun]\n",
      "0.896700602681\n",
      "108929.182468\n",
      "-90623.8545441\n",
      "-104.48131461 [MSun / Myr]\n",
      "1.0\n",
      "0.0\n",
      "0.0\n",
      "2.5\n",
      "True\n",
      "\t\n",
      "star:\n",
      "10.000000000 [Myr]\n",
      "Main Sequence star\n",
      "9.9992423131 [MSun]\n",
      "4.5574480693 [RSun]\n",
      "0.0000000000 [MSun]\n",
      "0.0000000000 [RSun]\n",
      "1.0000000000e-10 [MSun]\n",
      "1.0000000000e-10 [RSun]\n",
      "9.0074883554e+22 [MSun * RSun**2 * Myr**-2 / Myr]\n",
      "24882.454896 [K]\n",
      "-9.2143270672e-05 [MSun / Myr]\n",
      "1865351141.7 [Myr**-1]\n",
      "False\n",
      "\t\n",
      "\t\n",
      "star:\n",
      "10.000000000 [Myr]\n",
      "Main Sequence star\n",
      "8.0000000000 [MSun]\n",
      "3.6909988504 [RSun]\n",
      "0.0000000000 [MSun]\n",
      "0.0000000000 [RSun]\n",
      "1.0000000000e-10 [MSun]\n",
      "1.0000000000e-10 [RSun]\n",
      "3.9624939727e+22 [MSun * RSun**2 * Myr**-2 / Myr]\n",
      "22517.665386 [K]\n",
      "-0.0000000000 [MSun / Myr]\n",
      "2565146732.1 [Myr**-1]\n",
      "False\n",
      "\t\n",
      "\t\n",
      "\t\n",
      "\t\n"
     ]
    }
   ],
   "source": [
    "triple.print_stellar_system()"
   ]
  },
  {
   "cell_type": "code",
   "execution_count": 16,
   "metadata": {},
   "outputs": [],
   "source": [
    "stellar_code.particles.remove_particles(stars)"
   ]
  },
  {
   "cell_type": "code",
   "execution_count": 17,
   "metadata": {},
   "outputs": [],
   "source": [
    "stellar_code.stop()\n",
    "secular_code.stop()"
   ]
  },
  {
   "cell_type": "code",
   "execution_count": 29,
   "metadata": {},
   "outputs": [
    {
     "data": {
      "text/plain": [
       "[<matplotlib.lines.Line2D at 0x7f31a5b99a20>]"
      ]
     },
     "execution_count": 29,
     "metadata": {},
     "output_type": "execute_result"
    },
    {
     "data": {
      "image/png": "[encoded data removed]",
      "text/plain": [
       "<Figure size 640x480 with 1 Axes>"
      ]
     },
     "metadata": {},
     "output_type": "display_data"
    }
   ],
   "source": [
    "plt.plot(triple.plot_data.times_array.number, triple.plot_data.a_in_array.number)"
   ]
  }
 ],
 "metadata": {
  "kernelspec": {
   "display_name": "Python 3.10.6 ('amuse-tres-PsQP0NBr-py3.10')",
   "language": "python",
   "name": "python3"
  },
  "language_info": {
   "codemirror_mode": {
    "name": "ipython",
    "version": 3
   },
   "file_extension": ".py",
   "mimetype": "text/x-python",
   "name": "python",
   "nbconvert_exporter": "python",
   "pygments_lexer": "ipython3",
   "version": "3.10.6 (main, Nov 14 2022, 16:10:14) [GCC 11.3.0]"
  },
  "orig_nbformat": 4,
  "vscode": {
   "interpreter": {
    "hash": "2adc4102d3c5cc3c27614a3ecc3c3c429cb40eb1d735b73fcbb59a415fcc6b30"
   }
  }
 },
 "nbformat": 4,
 "nbformat_minor": 2
}
